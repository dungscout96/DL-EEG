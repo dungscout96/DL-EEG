{
 "cells": [
  {
   "cell_type": "code",
   "execution_count": null,
   "metadata": {
    "id": "2c0_0uImBwm5"
   },
   "outputs": [],
   "source": [
    "from utils import *\n",
    "import torch"
   ]
  },
  {
   "cell_type": "code",
   "execution_count": null,
   "metadata": {},
   "outputs": [],
   "source": [
    "# Load EEG data\n",
    "path = './data/'\n",
    "winLength = 2\n",
    "numChan = 24\n",
    "srate = 128\n",
    "feature = 'topo'\n",
    "one_channel = True"
   ]
  },
  {
   "cell_type": "code",
   "execution_count": null,
   "metadata": {},
   "outputs": [],
   "source": [
    "role = 'train'\n",
    "train_data = load_data(path, role, winLength, numChan, srate, feature, one_channel)\n",
    "print(f'X_train shape: {len(train_data)}, {train_data[0][0].shape}')\n",
    "print(f'Y_train shape: {len(train_data)}, {train_data[0][1].shape}')\n",
    "\n",
    "role = 'val'\n",
    "val_data = load_data(path, role, winLength, numChan, srate, feature, one_channel)\n",
    "print(f'X_val shape: {len(val_data)}, {val_data[0][0].shape}')\n",
    "print(f'Y_val shape: {len(val_data)}, {val_data[0][1].shape}')\n",
    "plot_EEG(train_data, feature, numChan, one_channel)"
   ]
  },
  {
   "cell_type": "code",
   "execution_count": null,
   "metadata": {},
   "outputs": [],
   "source": [
    "x_data = train_data[:][0]\n",
    "sample = 2\n",
    "image = np.reshape(x_data[sample], (x_data[sample].shape[1],x_data[sample].shape[2]))\n",
    "plt.imshow(image.astype('int32'), cmap='gray', vmin=0, vmax=255)"
   ]
  },
  {
   "cell_type": "code",
   "execution_count": null,
   "metadata": {},
   "outputs": [],
   "source": [
    "USE_GPU = True\n",
    "\n",
    "dtype = torch.float32 # we will be using float throughout this tutorial\n",
    "\n",
    "if USE_GPU and torch.cuda.is_available():\n",
    "    device = torch.device('cuda')\n",
    "else:\n",
    "    device = torch.device('cpu')\n",
    "\n",
    "# Constant to control how frequently we print train loss\n",
    "print_every = 100\n",
    "\n",
    "print('using device:', device)"
   ]
  },
  {
   "cell_type": "code",
   "execution_count": null,
   "metadata": {},
   "outputs": [],
   "source": [
    "model = create_model('original',feature)\n",
    "from pytorch_model_summary import summary\n",
    "print(summary(model, torch.zeros((1, 1, 24, 72)), show_input=False))"
   ]
  },
  {
   "cell_type": "code",
   "execution_count": null,
   "metadata": {
    "id": "ZSqENpKfB2UE"
   },
   "outputs": [],
   "source": [
    "logger = Logger()\n",
    "\n",
    "batch_size = 70 # original\n",
    "loader_train = DataLoader(train_data, batch_size=batch_size, shuffle=True)\n",
    "loader_val = DataLoader(val_data, batch_size=batch_size)\n",
    "for s in range(10):\n",
    "    model = run_experiment(s, 'original', 'topo',70)"
   ]
  },
  {
   "cell_type": "code",
   "execution_count": null,
   "metadata": {},
   "outputs": [],
   "source": [
    "logger = Logger(mode='debug')\n",
    "role = 'test'\n",
    "test_data = load_data(path, role, winLength, numChan, srate, feature, one_channel)\n",
    "\n",
    "sample_acc, subject_acc = test_all_seeds(\"saved-model/original-topo/model-original-topo\", 'original',feature,test_data,'data/test_subjIDs_fewer_subjects.csv',10, 10,device, dtype,logger)\n",
    "min_sample = np.min(sample_acc)\n",
    "max_sample = np.max(sample_acc)\n",
    "mean_sample = np.mean(sample_acc)\n",
    "std_sample = np.std(sample_acc)\n",
    "\n",
    "min_subj = np.min(subject_acc)\n",
    "max_subj = np.max(subject_acc)\n",
    "mean_subj = np.mean(subject_acc)\n",
    "std_subj = np.std(subject_acc)\n",
    "\n",
    "logger.log(\"Per sample\")\n",
    "logger.log(f\"Min: {min_sample}, Max: {max_sample}, Mean: {mean_sample}, STDEV: {std_sample}\")\n",
    "\n",
    "logger.log(\"Per subject\")\n",
    "logger.log(f\"Min: {min_subj}, Max: {max_subj}, Mean: {mean_subj}, STDEV: {std_subj}\")\n"
   ]
  },
  {
   "cell_type": "code",
   "execution_count": null,
   "metadata": {},
   "outputs": [],
   "source": [
    "logger = Logger(mode='debug')\n",
    "epochs = [20, 30, 40, 60, 69]\n",
    "\n",
    "with open(\"original-topo-test-results-balanced.csv\", 'w') as out:\n",
    "    out.write('epoch,min_sam,max_sam,mean_sam,std_sam,min_subj,max_subj,mean_subj,std_subj\\n')\n",
    "    for epoch in epochs:\n",
    "        sample_acc, subject_acc = test_all_seeds(model_name=\"original-topo/model-original-topo\", epoch=epoch, isBalanced=True)\n",
    "\n",
    "        min_sample = np.min(sample_acc)\n",
    "        max_sample = np.max(sample_acc)\n",
    "        mean_sample = np.mean(sample_acc)\n",
    "        std_sample = np.std(sample_acc)\n",
    "\n",
    "        min_subj = np.min(subject_acc)\n",
    "        max_subj = np.max(subject_acc)\n",
    "        mean_subj = np.mean(subject_acc)\n",
    "        std_subj = np.std(subject_acc)\n",
    "\n",
    "        logger.log(\"Per sample\")\n",
    "        logger.log(f\"Min: {min_sample}, Max: {max_sample}, Mean: {mean_sample}, STDEV: {std_sample}\")\n",
    "\n",
    "        logger.log(\"Per subject\")\n",
    "        logger.log(f\"Min: {min_subj}, Max: {max_subj}, Mean: {mean_subj}, STDEV: {std_subj}\")\n",
    "        out.write(f\"{epoch},{min_sample},{max_sample},{mean_sample},{std_sample},{min_subj},{max_subj},{mean_subj},{std_subj}\\n\")\n",
    "        "
   ]
  },
  {
   "cell_type": "code",
   "execution_count": null,
   "metadata": {},
   "outputs": [],
   "source": []
  }
 ],
 "metadata": {
  "colab": {
   "name": "SexPrediction.ipynb",
   "provenance": []
  },
  "kernelspec": {
   "display_name": "Python 3",
   "language": "python",
   "name": "python3"
  },
  "language_info": {
   "codemirror_mode": {
    "name": "ipython",
    "version": 3
   },
   "file_extension": ".py",
   "mimetype": "text/x-python",
   "name": "python",
   "nbconvert_exporter": "python",
   "pygments_lexer": "ipython3",
   "version": "3.7.7"
  }
 },
 "nbformat": 4,
 "nbformat_minor": 1
}
