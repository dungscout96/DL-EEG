{
 "cells": [
  {
   "cell_type": "code",
   "execution_count": 1,
   "metadata": {},
   "outputs": [],
   "source": [
    "import numpy as np\n",
    "import h5py\n",
    "import os\n",
    "import sys\n",
    "import datetime\n",
    "import csv\n",
    "from torchvision import transforms as transforms\n",
    "import matplotlib.pyplot as plt\n",
    "import pickle\n",
    "\n",
    "np.random.seed(0)"
   ]
  },
  {
   "cell_type": "code",
   "execution_count": 21,
   "metadata": {},
   "outputs": [
    {
     "name": "stdout",
     "output_type": "stream",
     "text": [
      "X_train shape: (71138, 3, 24, 24)\n",
      "Y_train shape: (71138,)\n",
      "X_val shape: (39641, 3, 24, 24)\n",
      "Y_val shape: (39641,)\n",
      "X_test shape: (15925, 3, 24, 24)\n",
      "Y_test shape: (15925,)\n"
     ]
    }
   ],
   "source": [
    "path = './data/'\n",
    "winLength = 2\n",
    "numChan = 24\n",
    "feature = \"topo\"\n",
    "f = h5py.File(path + f\"child_mind_x_train_{winLength}s_{numChan}chan_{feature}.mat\", 'r')\n",
    "x_train = f['X_train']\n",
    "\n",
    "print('X_train shape: ' + str(x_train.shape))\n",
    "f = h5py.File(path + f\"child_mind_y_train_{winLength}s_{numChan}chan_{feature}.mat\", 'r')\n",
    "y_train = f['Y_train']\n",
    "y_train = np.reshape(y_train, -1)\n",
    "\n",
    "print('Y_train shape: ' + str(y_train.shape))\n",
    "\n",
    "f = h5py.File(path + f\"child_mind_x_val_{winLength}s_{numChan}chan_{feature}.mat\", 'r')\n",
    "x_val = f['X_val']\n",
    "\n",
    "print('X_val shape: ' + str(x_val.shape))\n",
    "f = h5py.File(path + f\"child_mind_y_val_{winLength}s_{numChan}chan_{feature}.mat\", 'r')\n",
    "y_val = f['Y_val']\n",
    "y_val = np.reshape(y_val, -1)\n",
    "print('Y_val shape: ' + str(y_val.shape))\n",
    "\n",
    "f = h5py.File(path + f\"child_mind_x_test_{winLength}s_{numChan}chan_{feature}.mat\", 'r')\n",
    "x_test = f['X_test']\n",
    "\n",
    "print('X_test shape: ' + str(x_test.shape))\n",
    "f = h5py.File(path + f\"child_mind_y_test_{winLength}s_{numChan}chan_{feature}.mat\", 'r')\n",
    "y_test = f['Y_test']\n",
    "y_test = np.reshape(y_test, -1)\n",
    "print('Y_test shape: ' + str(y_test.shape))"
   ]
  },
  {
   "cell_type": "code",
   "execution_count": 3,
   "metadata": {},
   "outputs": [
    {
     "name": "stdout",
     "output_type": "stream",
     "text": [
      "(array([35707,     0,     0,     0,     0,     0,     0,     0,     0,\n",
      "       35674]), array([0. , 0.1, 0.2, 0.3, 0.4, 0.5, 0.6, 0.7, 0.8, 0.9, 1. ]))\n"
     ]
    }
   ],
   "source": [
    "print(np.histogram(y_train))"
   ]
  },
  {
   "cell_type": "code",
   "execution_count": 32,
   "metadata": {},
   "outputs": [
    {
     "name": "stdout",
     "output_type": "stream",
     "text": [
      "Gender: 1.0 (0 is male, 1 is female)\n"
     ]
    },
    {
     "data": {
      "image/png": "[encoded data removed]",
      "text/plain": [
       "<Figure size 432x288 with 1 Axes>"
      ]
     },
     "metadata": {
      "needs_background": "light"
     },
     "output_type": "display_data"
    }
   ],
   "source": [
    "# visualize input\n",
    "# visualize topo input\n",
    "subjIdx = 87\n",
    "print(f\"Gender: {y_train[subjIdx]} (0 is male, 1 is female)\")\n",
    "plt.imshow(np.transpose(x_train[subjIdx].astype('int32'),(1,2,0)))\n",
    "plt.show()"
   ]
  },
  {
   "cell_type": "code",
   "execution_count": null,
   "metadata": {},
   "outputs": [],
   "source": [
    "# reshaped sample to 1-D vector\n",
    "x_train_reshaped = np.reshape(x_train,(-1,3*24*24))\n",
    "x_val_reshaped = np.reshape(x_val,(-1,3*24*24))\n",
    "x_test_reshaped = np.reshape(x_test,(-1,3*24*24))"
   ]
  },
  {
   "cell_type": "markdown",
   "metadata": {},
   "source": [
    "# Random forest"
   ]
  },
  {
   "cell_type": "code",
   "execution_count": 6,
   "metadata": {},
   "outputs": [
    {
     "data": {
      "text/plain": [
       "RandomForestClassifier()"
      ]
     },
     "execution_count": 6,
     "metadata": {},
     "output_type": "execute_result"
    }
   ],
   "source": [
    "from sklearn.ensemble import RandomForestClassifier\n",
    "forest = RandomForestClassifier()\n",
    "forest.fit(x_train_reshaped, y_train)"
   ]
  },
  {
   "cell_type": "code",
   "execution_count": 7,
   "metadata": {},
   "outputs": [
    {
     "data": {
      "text/plain": [
       "1.0"
      ]
     },
     "execution_count": 7,
     "metadata": {},
     "output_type": "execute_result"
    }
   ],
   "source": [
    "print(f\"Training acc: {forest.score(x_train_reshaped,y_train)}\")\n",
    "print(f\"Validation acc: {forest.score(x_val_reshaped,y_val)}\")\n",
    "print(f\"Test acc: {forest.score(x_test_reshaped,y_test)}\")"
   ]
  },
  {
   "cell_type": "code",
   "execution_count": 10,
   "metadata": {},
   "outputs": [],
   "source": [
    "pickle.dump(forest, open('random_forest_topo.sav', 'wb'))"
   ]
  },
  {
   "cell_type": "markdown",
   "metadata": {},
   "source": [
    "# Logistic Regression"
   ]
  },
  {
   "cell_type": "code",
   "execution_count": 11,
   "metadata": {},
   "outputs": [
    {
     "name": "stderr",
     "output_type": "stream",
     "text": [
      "/home/dtyoung/.conda/envs/ml/lib/python3.7/site-packages/sklearn/linear_model/_logistic.py:765: ConvergenceWarning: lbfgs failed to converge (status=1):\n",
      "STOP: TOTAL NO. of ITERATIONS REACHED LIMIT.\n",
      "\n",
      "Increase the number of iterations (max_iter) or scale the data as shown in:\n",
      "    https://scikit-learn.org/stable/modules/preprocessing.html\n",
      "Please also refer to the documentation for alternative solver options:\n",
      "    https://scikit-learn.org/stable/modules/linear_model.html#logistic-regression\n",
      "  extra_warning_msg=_LOGISTIC_SOLVER_CONVERGENCE_MSG)\n"
     ]
    },
    {
     "data": {
      "text/plain": [
       "LogisticRegression()"
      ]
     },
     "execution_count": 11,
     "metadata": {},
     "output_type": "execute_result"
    }
   ],
   "source": [
    "from sklearn.linear_model import LogisticRegression\n",
    "logreg = LogisticRegression() # lasso by default\n",
    "logreg.fit(x_train_reshaped, y_train)"
   ]
  },
  {
   "cell_type": "code",
   "execution_count": 12,
   "metadata": {},
   "outputs": [
    {
     "data": {
      "text/plain": [
       "0.7753240181056538"
      ]
     },
     "execution_count": 12,
     "metadata": {},
     "output_type": "execute_result"
    }
   ],
   "source": [
    "print(f\"Training acc: {logreg.score(x_train_reshaped,y_train)}\")\n",
    "print(f\"Validation acc: {logreg.score(x_val_reshaped,y_val)}\")\n",
    "print(f\"Test acc: {logreg.score(x_test_reshaped,y_test)}\")"
   ]
  },
  {
   "cell_type": "code",
   "execution_count": 15,
   "metadata": {},
   "outputs": [],
   "source": [
    "pickle.dump(logreg, open('logistic_regression_topo.sav', 'wb'))"
   ]
  },
  {
   "cell_type": "markdown",
   "metadata": {},
   "source": [
    "# LDA"
   ]
  },
  {
   "cell_type": "code",
   "execution_count": 16,
   "metadata": {},
   "outputs": [
    {
     "data": {
      "text/plain": [
       "LinearDiscriminantAnalysis()"
      ]
     },
     "execution_count": 16,
     "metadata": {},
     "output_type": "execute_result"
    }
   ],
   "source": [
    "from sklearn.discriminant_analysis import LinearDiscriminantAnalysis\n",
    "lda = LinearDiscriminantAnalysis()\n",
    "lda.fit(x_train_reshaped, y_train)"
   ]
  },
  {
   "cell_type": "code",
   "execution_count": 17,
   "metadata": {},
   "outputs": [
    {
     "data": {
      "text/plain": [
       "0.7734825269195086"
      ]
     },
     "execution_count": 17,
     "metadata": {},
     "output_type": "execute_result"
    }
   ],
   "source": [
    "print(f\"Training acc: {lda.score(x_train_reshaped,y_train)}\")\n",
    "print(f\"Validation acc: {lda.score(x_val_reshaped,y_val)}\")\n",
    "print(f\"Test acc: {lda.score(x_test_reshaped,y_test)}\")"
   ]
  },
  {
   "cell_type": "code",
   "execution_count": 20,
   "metadata": {},
   "outputs": [],
   "source": [
    "pickle.dump(lda, open('LDA_topo.sav', 'wb'))"
   ]
  },
  {
   "cell_type": "markdown",
   "metadata": {},
   "source": [
    "# SVM"
   ]
  },
  {
   "cell_type": "code",
   "execution_count": null,
   "metadata": {},
   "outputs": [],
   "source": []
  }
 ],
 "metadata": {
  "kernelspec": {
   "display_name": "Python 3",
   "language": "python",
   "name": "python3"
  },
  "language_info": {
   "codemirror_mode": {
    "name": "ipython",
    "version": 3
   },
   "file_extension": ".py",
   "mimetype": "text/x-python",
   "name": "python",
   "nbconvert_exporter": "python",
   "pygments_lexer": "ipython3",
   "version": "3.7.10"
  }
 },
 "nbformat": 4,
 "nbformat_minor": 4
}
